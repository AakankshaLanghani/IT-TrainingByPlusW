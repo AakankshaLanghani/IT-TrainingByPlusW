{
  "nbformat": 4,
  "nbformat_minor": 0,
  "metadata": {
    "colab": {
      "provenance": []
    },
    "kernelspec": {
      "name": "python3",
      "display_name": "Python 3"
    },
    "language_info": {
      "name": "python"
    }
  },
  "cells": [
    {
      "cell_type": "code",
      "source": [
        "# Name Formatter and Length Calculator"
      ],
      "metadata": {
        "id": "IItjO-EQdh5a"
      },
      "execution_count": null,
      "outputs": []
    },
    {
      "cell_type": "code",
      "execution_count": 8,
      "metadata": {
        "colab": {
          "base_uri": "https://localhost:8080/"
        },
        "id": "zj13okgqaMxP",
        "outputId": "bab2987a-721b-433f-a51b-ce7c4a7a3f48"
      },
      "outputs": [
        {
          "output_type": "stream",
          "name": "stdout",
          "text": [
            "My first name is Aakanksha\n",
            "My last name is Pardeep Kumar\n",
            "Aakanksha\n",
            "Pardeep Kumar\n",
            "first name in upper case AAKANKSHA\n",
            "last name in lower case pardeep kumar\n",
            "total letters in my name are  22\n"
          ]
        }
      ],
      "source": [
        "# 1. input first and last name\n",
        "first_name= input(\"My first name is \")\n",
        "last_name= input(\"My last name is \")\n",
        "print(first_name)\n",
        "print(last_name)\n",
        "\n",
        "# 2. first name in upper and last name in lower case\n",
        "\n",
        "print(\"first name in upper case\", first_name.upper())\n",
        "print(\"last name in lower case\", last_name.lower())\n",
        "\n",
        "# 3. Calculate and print the sum of the letters\n",
        "total_letters_in_my_name= len(first_name)+len(last_name)\n",
        "print(\"total letters in my name are \", total_letters_in_my_name)"
      ]
    },
    {
      "cell_type": "code",
      "source": [
        "#Simple Area Calculator for various shapes"
      ],
      "metadata": {
        "id": "2fkgbJJxb8eK"
      },
      "execution_count": null,
      "outputs": []
    },
    {
      "cell_type": "code",
      "source": [
        "print(\"Calculate the area of following shapes:\")\n",
        "print(\"1. Circle\")\n",
        "print(\"2. Rectangle\")\n",
        "print(\"3. Square\")\n",
        "print(\"4. Triangle\")\n",
        "\n",
        "# Get user input for the shape\n",
        "shape = input(\"Enter the shape you want to calculate the area for: \")\n",
        "# Calculate area based on the shape selected\n",
        "if shape == \"circle\" or shape == \"1\":\n",
        "    radius = float(input(\"Enter the radius of the circle: \"))\n",
        "    area = 3.14 * radius**2\n",
        "    print(f\"Area of the circle: {area}\")\n",
        "\n",
        "elif shape == \"rectangle\" or shape == \"2\":\n",
        "    length = float(input(\"Enter the length of the rectangle: \"))\n",
        "    width = float(input(\"Enter the width of the rectangle: \"))\n",
        "    area = length * width\n",
        "    print(f\"Area of the rectangle: {area}\")\n",
        "\n",
        "elif shape == \"square\" or shape == \"3\":\n",
        "    side = float(input(\"Enter the side length of the square: \"))\n",
        "    area = side**2\n",
        "    print(f\"Area of the square: {area}\")\n",
        "\n",
        "elif shape == \"triangle\" or shape == \"4\":\n",
        "    base = float(input(\"Enter the base of the triangle: \"))\n",
        "    height = float(input(\"Enter the height of the triangle: \"))\n",
        "    area = 0.5 * base * height\n",
        "    print(f\"Area of the triangle: {area}\")\n",
        "\n",
        "else:\n",
        "    print(\"Invalid input! Please enter a valid shape name or number.\")\n",
        "\n",
        "\n",
        "\n"
      ],
      "metadata": {
        "colab": {
          "base_uri": "https://localhost:8080/"
        },
        "id": "DdHOdE5Odp1o",
        "outputId": "b1a309c3-a421-4cce-d650-e08e70aeae85"
      },
      "execution_count": 16,
      "outputs": [
        {
          "output_type": "stream",
          "name": "stdout",
          "text": [
            "Calculate the area of following shapes:\n",
            "1. Circle\n",
            "2. Rectangle\n",
            "3. Square\n",
            "4. Triangle\n",
            "Enter the shape you want to calculate the area for: 3\n",
            "Enter the side length of the square: 5\n",
            "Area of the square: 25.0\n"
          ]
        }
      ]
    },
    {
      "cell_type": "code",
      "source": [
        "#Random Color-Based Password Generator in Python\n",
        "import random\n",
        "colors = [\"red\", \"blue\", \"green\", \"yellow\", \"orange\", \"purple\"]\n",
        "index= random.randint (0,len(colors)-1 )\n",
        "print(colors[index])\n",
        "selected_color = colors[index]\n",
        "print(f\"The selected color is: {selected_color}\")\n",
        "password = selected_color[::-1]\n",
        "print(\"Selected Color:\", selected_color)\n",
        "print(\"Generated Password:\", password)\n"
      ],
      "metadata": {
        "colab": {
          "base_uri": "https://localhost:8080/"
        },
        "id": "zYOjgD9toUq7",
        "outputId": "2f1c18b4-2228-46eb-f633-c5ab5df08a36"
      },
      "execution_count": 23,
      "outputs": [
        {
          "output_type": "stream",
          "name": "stdout",
          "text": [
            "yellow\n",
            "The selected color is: yellow\n",
            "Selected Color: yellow\n",
            "Generated Password: wolley\n"
          ]
        }
      ]
    }
  ]
}