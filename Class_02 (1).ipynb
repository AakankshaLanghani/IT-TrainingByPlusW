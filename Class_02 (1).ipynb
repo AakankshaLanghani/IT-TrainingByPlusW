{
  "nbformat": 4,
  "nbformat_minor": 0,
  "metadata": {
    "colab": {
      "provenance": []
    },
    "kernelspec": {
      "name": "python3",
      "display_name": "Python 3"
    },
    "language_info": {
      "name": "python"
    }
  },
  "cells": [
    {
      "cell_type": "code",
      "execution_count": null,
      "metadata": {
        "colab": {
          "base_uri": "https://localhost:8080/"
        },
        "id": "xiI-JZp62_YA",
        "outputId": "97c43328-67cc-4127-9565-e6f7ee6d0e5b"
      },
      "outputs": [
        {
          "output_type": "stream",
          "name": "stdout",
          "text": [
            "this is my second class of Python Language\n"
          ]
        }
      ],
      "source": [
        "#indentation\n",
        "if True:\n",
        "   print(\"this is my second class of Python Language\")\n",
        "\n",
        "#comments\n",
        "# if True:   ctrl+/\n",
        "  #print(\"this is my second class of Python Language\")\n",
        "\n",
        "\n"
      ]
    },
    {
      "cell_type": "code",
      "source": [
        "#variables and constants\n",
        "name = \"Aakanksha\" #single or double quotation is fine\n",
        "age = 21\n",
        "\n",
        "PI= 3.14159 #constant\n",
        "\n",
        "print(\"my name is\" ,name)\n",
        "print(\"my age is \" ,age)\n",
        "print (PI)\n"
      ],
      "metadata": {
        "colab": {
          "base_uri": "https://localhost:8080/"
        },
        "id": "DAUss1mO4R9_",
        "outputId": "a8346d94-e3c3-474a-905a-e0f931bca277"
      },
      "execution_count": null,
      "outputs": [
        {
          "output_type": "stream",
          "name": "stdout",
          "text": [
            "my name is Aakanksha\n",
            "my age is  21\n",
            "3.14159\n"
          ]
        }
      ]
    },
    {
      "cell_type": "code",
      "source": [
        "#input and output functions\n",
        "name= input(\"enter your name: \") #ip fn\n",
        "print(\"my name is\", name) #op fn\n",
        "\n",
        "print(type(name)) #datatype"
      ],
      "metadata": {
        "colab": {
          "base_uri": "https://localhost:8080/"
        },
        "id": "14ciNnhL5bWG",
        "outputId": "49fc6ce0-ad38-46c3-80d4-416974808774"
      },
      "execution_count": null,
      "outputs": [
        {
          "output_type": "stream",
          "name": "stdout",
          "text": [
            "enter your name: aakanksha\n",
            "my name is aakanksha\n",
            "<class 'str'>\n"
          ]
        }
      ]
    },
    {
      "cell_type": "code",
      "source": [
        "#primitive data types\n",
        "x = 10\n",
        "y= 10.01\n",
        "z= 4 + 3j\n",
        "print(\"the real number is\" ,z.real)\n",
        "print(\"the imaginary number is\" ,z.imag)"
      ],
      "metadata": {
        "colab": {
          "base_uri": "https://localhost:8080/"
        },
        "id": "MzISdZ4v561y",
        "outputId": "4335dcb4-0de7-4f95-a4e3-c016f7890255"
      },
      "execution_count": null,
      "outputs": [
        {
          "output_type": "stream",
          "name": "stdout",
          "text": [
            "the real number is 4.0\n",
            "the imaginary number is 3.0\n"
          ]
        }
      ]
    },
    {
      "cell_type": "code",
      "source": [
        "#string\n",
        "\n",
        "sentence= \"this is my second class of python language\"\n",
        "print(\"first letter:\" , sentence[27])\n",
        "print(\"first letter:\" , sentence[-15]) #right to left\n",
        "\n",
        "greeting = \"python\" + \"language\"\n",
        "print(greeting)\n",
        "\n",
        "repeat = \" Python \"  *  10\n",
        "print(repeat)\n",
        "\n",
        "#slice string\n",
        "print(\"#sliced string : \", sentence[0:23])\n",
        "\n",
        "#upper or lowercase\n",
        "print(\"lower case\",sentence.lower())\n",
        "print(\"upper case\",sentence.upper())\n",
        "\n",
        "print(\"replace\", sentence.replace(\"python\", \"C++\"))"
      ],
      "metadata": {
        "colab": {
          "base_uri": "https://localhost:8080/"
        },
        "id": "60UnlqMP6jTt",
        "outputId": "d6fc1e9b-f8bb-435f-b122-8b77c128ee20"
      },
      "execution_count": null,
      "outputs": [
        {
          "output_type": "stream",
          "name": "stdout",
          "text": [
            "first letter: p\n",
            "first letter: p\n",
            "pythonlanguage\n",
            " Python  Python  Python  Python  Python  Python  Python  Python  Python  Python \n",
            "#sliced string :  this is my second class\n",
            "lower case this is my second class of python language\n",
            "upper case THIS IS MY SECOND CLASS OF PYTHON LANGUAGE\n",
            "replace this is my second class of C++ language\n"
          ]
        }
      ]
    },
    {
      "cell_type": "code",
      "source": [
        "#collect data types\n",
        "#list\n",
        "numbers= [1,2,3,4,5]\n",
        "numbers.append(6)\n",
        "print(numbers)\n",
        "\n",
        "#list slicing\n",
        "print(numbers[0:3]) #0,1,2 indices 3-1=2"
      ],
      "metadata": {
        "colab": {
          "base_uri": "https://localhost:8080/"
        },
        "id": "--ryS0TU7IQS",
        "outputId": "cca28ea4-0bdc-4770-818d-30a5539c2891"
      },
      "execution_count": null,
      "outputs": [
        {
          "output_type": "stream",
          "name": "stdout",
          "text": [
            "[1, 2, 3, 4, 5, 6]\n",
            "[1, 2, 3]\n"
          ]
        }
      ]
    },
    {
      "cell_type": "code",
      "source": [
        "#tuples\n",
        "numbers= (1,2,3,4,5)\n",
        "print(numbers)"
      ],
      "metadata": {
        "colab": {
          "base_uri": "https://localhost:8080/"
        },
        "id": "hKJeMG--7PGS",
        "outputId": "9bdc426e-4e09-4ab8-dc5d-cc8dfc7b7720"
      },
      "execution_count": null,
      "outputs": [
        {
          "output_type": "stream",
          "name": "stdout",
          "text": [
            "(1, 2, 3, 4, 5)\n"
          ]
        }
      ]
    },
    {
      "cell_type": "code",
      "source": [
        "#sets\n",
        "numbers= {1,2,3,4,5}\n",
        "numbers.add(6) # new can be added\n",
        "numbers.add(5) #duplicates are not allowed!\n",
        "\n",
        "print(numbers)"
      ],
      "metadata": {
        "colab": {
          "base_uri": "https://localhost:8080/"
        },
        "id": "dR8pFkaN9g6M",
        "outputId": "19162c4f-3ef4-4a91-9b35-b7bc2f614eb4"
      },
      "execution_count": null,
      "outputs": [
        {
          "output_type": "stream",
          "name": "stdout",
          "text": [
            "{1, 2, 3, 4, 5, 6}\n"
          ]
        }
      ]
    },
    {
      "cell_type": "code",
      "source": [
        "#dictionary\n",
        "\n",
        "#dictionary\n",
        "\n",
        "student = {\"name\" : \"Aakanksha\"} #key: value (pair)\n",
        "\n",
        "student[\"name\"] = \"Alina\"  # Assign the string \"Alina\" to the key \"name\"\n",
        "print(student)"
      ],
      "metadata": {
        "colab": {
          "base_uri": "https://localhost:8080/"
        },
        "id": "JPiTii7I9wWj",
        "outputId": "d99a19b7-ca81-4c06-980d-537a1989a975"
      },
      "execution_count": null,
      "outputs": [
        {
          "output_type": "stream",
          "name": "stdout",
          "text": [
            "{'name': 'Alina'}\n"
          ]
        }
      ]
    },
    {
      "cell_type": "code",
      "source": [
        "#implicit conv\n",
        "num1 = 10\n",
        "num2= 10.01\n",
        "result= num1+num2\n",
        "print (result)\n",
        "print(type(result))"
      ],
      "metadata": {
        "colab": {
          "base_uri": "https://localhost:8080/"
        },
        "id": "msbee5x2-i9R",
        "outputId": "aefa83bc-6acb-499a-b6d4-b9e5a9e4eada"
      },
      "execution_count": null,
      "outputs": [
        {
          "output_type": "stream",
          "name": "stdout",
          "text": [
            "20.009999999999998\n",
            "<class 'float'>\n"
          ]
        }
      ]
    },
    {
      "cell_type": "code",
      "source": [
        "#explicit conversion\n",
        "age = \"25\"\n",
        "print(type(age))\n",
        "integer = 10\n",
        "age = int(age)\n",
        "#integer = str(integer)\n",
        "\n",
        "result= age+integer\n",
        "print(result)"
      ],
      "metadata": {
        "colab": {
          "base_uri": "https://localhost:8080/"
        },
        "id": "Gf6hZNmu-6V6",
        "outputId": "9e29b591-52fe-4d9a-af74-a3c208f812b1"
      },
      "execution_count": null,
      "outputs": [
        {
          "output_type": "stream",
          "name": "stdout",
          "text": [
            "<class 'str'>\n",
            "35\n"
          ]
        }
      ]
    },
    {
      "cell_type": "code",
      "source": [
        "#operators\n",
        "#arithematic operators\n",
        "\n",
        "num1= 10\n",
        "num2= 4\n",
        "\n",
        "print(\"addition\", num1 + num2)\n",
        "print(\"subtraction\", num1 - num2)\n",
        "print(\"multiplication\", num1 * num2)\n",
        "print(\"division\", num1 / num2)\n",
        "print(\"floor division\", num1 // num2)\n",
        "print(\"modulus\", num1 % num2)\n",
        "print(\"exponent\", num1 ** num2)"
      ],
      "metadata": {
        "colab": {
          "base_uri": "https://localhost:8080/"
        },
        "id": "q_J5JcIw_uud",
        "outputId": "ea910778-e48b-421d-9c70-c866e75ab9d7"
      },
      "execution_count": null,
      "outputs": [
        {
          "output_type": "stream",
          "name": "stdout",
          "text": [
            "addition 14\n",
            "subtraction 6\n",
            "multiplication 40\n",
            "division 2.5\n",
            "floor division 2\n",
            "modulus 2\n",
            "exponent 10000\n"
          ]
        }
      ]
    },
    {
      "cell_type": "code",
      "source": [
        "#comparision operation\n",
        "\n",
        "num1= 10\n",
        "num2= 4\n",
        "\n",
        "print(\"equal\", num1 +num2)\n",
        "print(\"not equal\", num1 != num2)\n",
        "print(\"greater than\", num1 > num2)\n",
        "print(\"less than\", num1 < num2)\n"
      ],
      "metadata": {
        "colab": {
          "base_uri": "https://localhost:8080/"
        },
        "id": "UPYnEEX7AM13",
        "outputId": "4344346d-6fd9-40d0-8d5c-509eb35cf606"
      },
      "execution_count": null,
      "outputs": [
        {
          "output_type": "stream",
          "name": "stdout",
          "text": [
            "equal 14\n",
            "not equal True\n",
            "greater than True\n",
            "less than False\n"
          ]
        }
      ]
    },
    {
      "cell_type": "code",
      "source": [
        "#logical operators\n",
        "p = True\n",
        "q= False\n",
        "\n",
        "print(\"AND\", p and q)\n",
        "print(\"OR\", p or q)\n",
        "print(\"NOT\", not p)\n"
      ],
      "metadata": {
        "colab": {
          "base_uri": "https://localhost:8080/"
        },
        "id": "n0p4t6gKAmTj",
        "outputId": "883c6a4b-2c73-45ed-ff9b-b8d9722ae1bf"
      },
      "execution_count": null,
      "outputs": [
        {
          "output_type": "stream",
          "name": "stdout",
          "text": [
            "AND False\n",
            "OR True\n",
            "NOT False\n"
          ]
        }
      ]
    },
    {
      "cell_type": "code",
      "source": [
        "#assignment operators\n",
        "a=10\n",
        "a+=5 #a= a+5\n",
        "a-=5 #a= a-5\n",
        "a*=5 #a= a*5\n",
        "a/=5 #a= a/5\n",
        "print(a)"
      ],
      "metadata": {
        "colab": {
          "base_uri": "https://localhost:8080/"
        },
        "id": "YxSOJQdhA3c3",
        "outputId": "e47facc8-0975-4279-f7e9-7d64e9bc9fe6"
      },
      "execution_count": null,
      "outputs": [
        {
          "output_type": "stream",
          "name": "stdout",
          "text": [
            "10.0\n"
          ]
        }
      ]
    },
    {
      "cell_type": "code",
      "source": [
        "#length function\n",
        "sentence = \"this is my second class of python language\" #total length with spaces\n",
        "print(len(sentence))"
      ],
      "metadata": {
        "colab": {
          "base_uri": "https://localhost:8080/"
        },
        "id": "SWLMiHcnBPKs",
        "outputId": "0364c0c7-39d7-476c-931a-1ee66917465e"
      },
      "execution_count": null,
      "outputs": [
        {
          "output_type": "stream",
          "name": "stdout",
          "text": [
            "42\n"
          ]
        }
      ]
    },
    {
      "cell_type": "code",
      "source": [
        "#split function\n",
        "sentence = \"this is my second, class of python language\"\n",
        "words = sentence.split(\" ,\")\n",
        "print(words)\n"
      ],
      "metadata": {
        "colab": {
          "base_uri": "https://localhost:8080/"
        },
        "id": "fB1D8ao0Bfl_",
        "outputId": "1f2eb647-63f3-444a-d61a-4b988a63d3d2"
      },
      "execution_count": null,
      "outputs": [
        {
          "output_type": "stream",
          "name": "stdout",
          "text": [
            "['this is my second, class of python language']\n",
            "['this is my second', ' class of python language']\n"
          ]
        }
      ]
    },
    {
      "cell_type": "code",
      "source": [
        "#random function\n",
        "import random\n",
        "number = random.randint(1,10) # 1, 10  also included\n",
        "print(number)\n",
        "\n",
        "print(random.random()) #btw 0 and 1\n",
        "\n",
        "items = [\"apple\", \"banana\", \"orange\"]\n",
        "random.shuffle(items)\n",
        "print(items)\n",
        "\n",
        "print(random.choice(items))"
      ],
      "metadata": {
        "colab": {
          "base_uri": "https://localhost:8080/"
        },
        "id": "zYKVR8EZB4nW",
        "outputId": "5a3f36d5-dd86-4d46-e065-af15d97a062b"
      },
      "execution_count": null,
      "outputs": [
        {
          "output_type": "stream",
          "name": "stdout",
          "text": [
            "5\n",
            "0.8477287655324656\n",
            "['apple', 'banana', 'orange']\n",
            "banana\n"
          ]
        }
      ]
    }
  ]
}